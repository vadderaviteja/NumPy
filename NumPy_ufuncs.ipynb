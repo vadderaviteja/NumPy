{
 "cells": [
  {
   "cell_type": "code",
   "execution_count": null,
   "id": "72ba55ce-f73e-4001-95b9-c19fac48ee24",
   "metadata": {},
   "outputs": [],
   "source": [
    "'''NumPy ufuncs'''\n",
    "# ufuncs stands for \"universal function\" and they are numpy functions that operate ndarray object.\n",
    "# A universal function is a function that operates on ndarrays in an element\n",
    "#element-by-element fashion ,supporting array broadcasting ,type casting, and several other standard features.\n",
    "\n",
    "'''why use ufuncs?'''\n",
    "# it is used to implemet vectorization in numpy which is way faster than itering over elements.\n",
    "#Theey also provide broaadcasting methods likes reduce ,accumulate etc.\n",
    "# arguments:\n",
    "# where=boolean array or condition where the operations should take place.\n",
    "# dtype=return type of elements.\n",
    "# out=output array where the return value should be copied.\n",
    "\n",
    "'''what is vectorization '''\n",
    "# converting interating stmts into vector based operation is callled vectoriation.\n",
    "# in this process without using for loop operations.\n",
    "# It si faster as modern cpus are optimized foer such operations.\n"
   ]
  },
  {
   "cell_type": "code",
   "execution_count": 7,
   "id": "3f95d672-680e-4138-9be6-f588eba3fddf",
   "metadata": {},
   "outputs": [
    {
     "name": "stdout",
     "output_type": "stream",
     "text": [
      "[2, 4, 6, 11, 13]\n",
      "[ 2  4  6 11 13]\n"
     ]
    }
   ],
   "source": [
    "'''Zip()'''\n",
    "a=[1,2,3,4,5]\n",
    "b=[1,2,3,7,8]\n",
    "c=[]\n",
    "for i,j in zip(a,b):\n",
    "    c.append(i+j)\n",
    "print(c)\n",
    "\n",
    "\n",
    "\n",
    "'''add()'''\n",
    "import numpy as np\n",
    "c=np.add(a,b)\n",
    "print(c)\n",
    "    "
   ]
  },
  {
   "cell_type": "code",
   "execution_count": 13,
   "id": "51d79c85-0234-491c-a7ac-40b921506629",
   "metadata": {},
   "outputs": [
    {
     "name": "stdout",
     "output_type": "stream",
     "text": [
      "[5 7 9]\n"
     ]
    }
   ],
   "source": [
    "'''frompyfunc()'''\n",
    "# it is alsonormal function in python.\n",
    "#parameters:\n",
    "#function = name of the function.\n",
    "#inputs = no.of input arguments(arrays).\n",
    "#outputs + no.of outputs arrays.\n",
    "\n",
    "def myadd(a,b):\n",
    "    return a+b\n",
    "variable=np.frompyfunc(myadd,2,1)\n",
    "print(variable([1,2,3],[4,5,6]))"
   ]
  },
  {
   "cell_type": "code",
   "execution_count": 33,
   "id": "4713428b-6f2a-46f6-b75a-efc2c6cbe769",
   "metadata": {},
   "outputs": [
    {
     "name": "stdout",
     "output_type": "stream",
     "text": [
      "<class 'numpy.ufunc'>\n",
      "<class 'numpy._ArrayFunctionDispatcher'>\n"
     ]
    }
   ],
   "source": [
    "print(type(np.add))\n",
    "print(type(np.concatenate))"
   ]
  },
  {
   "cell_type": "code",
   "execution_count": 37,
   "id": "d6234134-470e-43bb-8739-d62a76d4deb0",
   "metadata": {},
   "outputs": [
    {
     "name": "stdout",
     "output_type": "stream",
     "text": [
      "add is ufunc\n"
     ]
    }
   ],
   "source": [
    "if type(np.add)==np.ufunc:\n",
    "    print(\"add is ufunc\")\n",
    "else:\n",
    "    print(\"add is not ufunc\")"
   ]
  },
  {
   "cell_type": "code",
   "execution_count": 65,
   "id": "6a9a9019-216a-4ca4-bb60-a3f7e6ddebd3",
   "metadata": {},
   "outputs": [
    {
     "name": "stdout",
     "output_type": "stream",
     "text": [
      "[ 7  9 11 13 15]\n",
      "[-5 -5 -5 -5 -5]\n",
      "[ 6 14 24 36 50]\n",
      "[0.16666667 0.28571429 0.375      0.44444444 0.5       ]\n",
      "[      1     128    6561  262144 9765625]\n",
      "[1 2 3 4 5]\n",
      "(array([0, 0, 0, 0, 0]), array([1, 2, 3, 4, 5]))\n",
      "[1 2 3 4 5]\n"
     ]
    }
   ],
   "source": [
    "'''Arithmetic operations'''\n",
    "arr1=np.array([1,2,3,4,5])\n",
    "arr2=np.array([6,7,8,9,10])\n",
    "newarr=np.add(arr1,arr2)\n",
    "print(newarr)\n",
    "print(np.subtract(arr1,arr2))\n",
    "print(np.multiply(arr1,arr2))\n",
    "print(np.divide(arr1,arr2))\n",
    "print(np.power(arr1,arr2))\n",
    "print(np.remainder(arr1,arr2))  # mod() and remainder() both are same\n",
    "print(np.divmod(arr1,arr2))    # returns the quotient and reamider\n",
    "print(np.absolute(arr1))"
   ]
  },
  {
   "cell_type": "code",
   "execution_count": 109,
   "id": "0f4c581a-ea93-4688-9092-f8d12fdc88db",
   "metadata": {},
   "outputs": [
    {
     "name": "stdout",
     "output_type": "stream",
     "text": [
      "[-123.    6.]\n",
      "[-123.    6.]\n",
      "34.3\n",
      "[-124.    6.]\n",
      "[-123.    7.]\n"
     ]
    }
   ],
   "source": [
    "'''Rounding Decimals'''\n",
    "# five ways\n",
    "# truncation ,fix, rounding, floor, ceil.\n",
    "\n",
    "arr=np.trunc([-123.456,6.4454])\n",
    "print(arr)\n",
    "print(np.fix(arr))  #trunc and fix both are same\n",
    "\n",
    "rr1=np.around(34.32456,1)\n",
    "print(rr1)\n",
    "\n",
    "arr=np.floor([-123.456,6.4454]) # returns nearest value\n",
    "print(arr)\n",
    "\n",
    "arr=np.ceil([-123.456,6.4454]) # returns nearest value\n",
    "print(arr)\n"
   ]
  },
  {
   "cell_type": "code",
   "execution_count": 161,
   "id": "49a1cc28-20b7-4d49-ae57-1c84250ea4dd",
   "metadata": {},
   "outputs": [
    {
     "name": "stdout",
     "output_type": "stream",
     "text": [
      "[0.         1.         1.5849625  2.         2.32192809 2.5849625\n",
      " 2.80735492 3.         3.169925  ]\n",
      "[0.         0.69314718 1.09861229 1.38629436 1.60943791 1.79175947\n",
      " 1.94591015 2.07944154 2.19722458]\n",
      "[0.         0.30103    0.47712125 0.60205999 0.69897    0.77815125\n",
      " 0.84509804 0.90308999 0.95424251]\n",
      "3.3219280948873626\n"
     ]
    }
   ],
   "source": [
    "'''numpy logs'''\n",
    "# munpy provides functions to perform log at the base 2, e and 10.\n",
    "arr=np.arange(1,10)\n",
    "print(np.log2(arr))\n",
    "\n",
    "\n",
    "arr=np.arange(1,10)\n",
    "print(np.log(arr))\n",
    "\n",
    "arr=np.arange(1,10)\n",
    "print(np.log10(arr))\n",
    "\n",
    "# log at any base log(value,base)\n",
    "from math import log\n",
    "nplog=np.frompyfunc(log,2,1)\n",
    "print(nplog(10,2))"
   ]
  },
  {
   "cell_type": "code",
   "execution_count": 207,
   "id": "95aeb527-0965-4541-bd30-6e3b08de4c3c",
   "metadata": {},
   "outputs": [
    {
     "name": "stdout",
     "output_type": "stream",
     "text": [
      "[ 6  8 11]\n",
      "25\n",
      "[ 6 19]\n"
     ]
    }
   ],
   "source": [
    "'''Summations'''\n",
    "# what is the diff between summation and addition\n",
    "# summation is the total value and add means addition of first and second elements.\n",
    "\n",
    "arr1 = np.array([1, 2, 3])\n",
    "arr2 = np.array([5,6,8])\n",
    "\n",
    "newarr = np.add(arr1, arr2)\n",
    "\n",
    "print(newarr)\n",
    "\n",
    "#summation\n",
    "arr1 = np.array([1, 2, 3])\n",
    "arr2 = np.array([5, 6, 8])\n",
    "\n",
    "newarr = np.sum([arr1, arr2])\n",
    "\n",
    "print(newarr)\n",
    "\n",
    "# summation over an axis\n",
    "arr1 = np.array([1, 2, 3])\n",
    "arr2 = np.array([5, 6, 8])\n",
    "\n",
    "newarr = np.sum([arr1,arr2], axis=1)\n",
    "print(newarr)"
   ]
  },
  {
   "cell_type": "code",
   "execution_count": 211,
   "id": "677549fd-df21-470f-8ce9-38b70c84c937",
   "metadata": {},
   "outputs": [
    {
     "name": "stdout",
     "output_type": "stream",
     "text": [
      "[ 1  3  6 10 15 21 28 36 45 55]\n"
     ]
    }
   ],
   "source": [
    "# cumulative sum\n",
    "arr=np.array([1,2,3,4,5,6,7,8,9,10])\n",
    "print(np.cumsum(arr))"
   ]
  },
  {
   "cell_type": "code",
   "execution_count": 237,
   "id": "920f395d-2cdd-4e08-a5d9-63b8e6c772a3",
   "metadata": {},
   "outputs": [
    {
     "name": "stdout",
     "output_type": "stream",
     "text": [
      "3628800\n",
      "36\n",
      "[6 6]\n",
      "[ 1  2  6  6 12 36]\n"
     ]
    }
   ],
   "source": [
    "'''numpy products'''\n",
    "arr=np.array([1,2,3,4,5,6,7,8,9,10])\n",
    "print(np.prod(arr))\n",
    "\n",
    "# two arrays of product\n",
    "arr1 = np.array([1, 2, 3])\n",
    "arr2 = np.array([1,2,3])\n",
    "newarr=np.prod([arr1,arr2])\n",
    "print(newarr)\n",
    "\n",
    "#product over on axis\n",
    "arr1 = np.array([1, 2, 3])\n",
    "arr2 = np.array([1,2,3])\n",
    "newarr=np.prod([arr1,arr2],axis=1)\n",
    "print(newarr)\n",
    "\n",
    "#cumulative product\n",
    "arr1 = np.array([1, 2, 3])\n",
    "arr2 = np.array([1,2,3])\n",
    "newarr=np.cumprod([arr1,arr2])\n",
    "print(newarr)"
   ]
  },
  {
   "cell_type": "code",
   "execution_count": 269,
   "id": "53c1321e-daaf-488a-a17a-92cb1b2b3574",
   "metadata": {},
   "outputs": [
    {
     "name": "stdout",
     "output_type": "stream",
     "text": [
      "[10  0  0  0 11]\n",
      "[  5 -30]\n"
     ]
    }
   ],
   "source": [
    "'''Difference'''\n",
    "# discrete difference means substring two successive elements.\n",
    "# diff()\n",
    "\n",
    "arr=np.array([12,3,4,5,6,7,19])\n",
    "print(np.diff(arr,n=2))\n",
    "\n",
    "arr = np.array([10, 15, 25, 5])\n",
    "newarr = np.diff(arr, n=2)\n",
    "print(newarr)\n"
   ]
  },
  {
   "cell_type": "code",
   "execution_count": 3,
   "id": "5d833ee7-5ea5-4258-860b-5c6bcbdf7311",
   "metadata": {},
   "outputs": [
    {
     "name": "stdout",
     "output_type": "stream",
     "text": [
      "20\n"
     ]
    }
   ],
   "source": [
    "'''LCM'''\n",
    "# LCM=Lowest common factor multiple\n",
    "# first of all two multiple numbers\n",
    "\n",
    "import numpy as np\n",
    "num1=10\n",
    "num2=20\n",
    "x=np.lcm(num1,num2)\n",
    "print(x)"
   ]
  },
  {
   "cell_type": "code",
   "execution_count": 13,
   "id": "ac9157f5-1409-4299-a6d2-a36849bf5a87",
   "metadata": {},
   "outputs": [
    {
     "name": "stdout",
     "output_type": "stream",
     "text": [
      "60\n",
      "232792560\n"
     ]
    }
   ],
   "source": [
    "'''LCM in Arrays'''\n",
    "# to find the lowest common multiple of all values in an array ,we can use reduce() method\n",
    "arr=np.array([1,2,3,4,5])\n",
    "x=np.lcm.reduce(arr)\n",
    "print(x)\n",
    "\n",
    "arr=np.arange(1,20)\n",
    "x=np.lcm.reduce(arr)\n",
    "print(x)"
   ]
  },
  {
   "cell_type": "code",
   "execution_count": 19,
   "id": "1f861cfd-e42b-4dd1-a85d-3e315d746a15",
   "metadata": {},
   "outputs": [
    {
     "name": "stdout",
     "output_type": "stream",
     "text": [
      "10\n",
      "1\n"
     ]
    }
   ],
   "source": [
    "'''Numpy GCD'''\n",
    "# Greatest common Denominator\n",
    "# the GCD also knomn as HCF is hte biggest nnumber that is a facor of both of the numbers.\n",
    "\n",
    "num1=10\n",
    "num2=20\n",
    "x=np.gcd(num1,num2)\n",
    "print(x)\n",
    "\n",
    "arr=np.array([23,45,67,21])\n",
    "x=np.gcd.reduce(arr)\n",
    "print(x)"
   ]
  },
  {
   "cell_type": "code",
   "execution_count": 47,
   "id": "cc8390d2-0672-45b9-9486-fa7beca60b34",
   "metadata": {},
   "outputs": [
    {
     "name": "stdout",
     "output_type": "stream",
     "text": [
      "0.49999999999999994\n",
      "[1.         0.8660254  0.70710678 0.58778525]\n"
     ]
    }
   ],
   "source": [
    "'''Trigonometric Functions'''\n",
    "#ufuncs sin(), cos(), tan() that takes values in radians the produces corresp values.\n",
    "\n",
    "x=np.sin(np.pi/6)\n",
    "print(x)\n",
    "\n",
    "arr=np.array([np.pi/2,np.pi/3,np.pi/4,np.pi/5])\n",
    "x=np.sin(arr)\n",
    "print(x)"
   ]
  },
  {
   "cell_type": "code",
   "execution_count": 51,
   "id": "bf4c60b8-5d55-42fb-9189-f1cb55fd9846",
   "metadata": {},
   "outputs": [
    {
     "name": "stdout",
     "output_type": "stream",
     "text": [
      "[2.0943951  2.53072742 3.14159265 4.71238898]\n"
     ]
    }
   ],
   "source": [
    "'''convert degrees into Radians'''\n",
    "# we can use ,deg2rad()\n",
    "# radians=degrees*pi/180\n",
    "arr=np.array([120,145,180,270])\n",
    "x=np.deg2rad(arr)\n",
    "print(x)"
   ]
  },
  {
   "cell_type": "code",
   "execution_count": 55,
   "id": "7b65d607-42c3-4183-aa04-4ab55c49e0ce",
   "metadata": {},
   "outputs": [
    {
     "name": "stdout",
     "output_type": "stream",
     "text": [
      "[ 90. 180. 270. 360.]\n"
     ]
    }
   ],
   "source": [
    "'''radians into degrees'''\n",
    "#degree=radians*180/pi\n",
    "arr=np.array([np.pi/2, np.pi, 1.5*np.pi, 2*np.pi])\n",
    "x=np.rad2deg(arr)\n",
    "print(x)"
   ]
  },
  {
   "cell_type": "code",
   "execution_count": 79,
   "id": "3d0eb07e-4bc6-4b46-bc81-c2825cf5d90b",
   "metadata": {},
   "outputs": [
    {
     "name": "stdout",
     "output_type": "stream",
     "text": [
      "0.41151684606748806\n"
     ]
    }
   ],
   "source": [
    "''' Finding Angles'''\n",
    "# inverse (arcsin,arccos,arctan).\n",
    "#ufuncs provides arcsin(),arccos(),arctan().\n",
    "# range os sin invesr is -1 to 1\n",
    "x=np.arcsin(.4)\n",
    "print(x)"
   ]
  },
  {
   "cell_type": "code",
   "execution_count": 87,
   "id": "93afce72-4311-4df1-8003-8208bf8f7e36",
   "metadata": {},
   "outputs": [
    {
     "name": "stdout",
     "output_type": "stream",
     "text": [
      "[ 1.57079633 -1.57079633  0.10016742]\n"
     ]
    }
   ],
   "source": [
    "'''Angles of each value in Arrays'''\n",
    "arr=np.array([1,-1,0.1])\n",
    "x=np.arcsin(arr)\n",
    "print(x)"
   ]
  },
  {
   "cell_type": "code",
   "execution_count": 93,
   "id": "c0d9de7a-ca38-4637-b6db-694c879c60f8",
   "metadata": {},
   "outputs": [
    {
     "name": "stdout",
     "output_type": "stream",
     "text": [
      "16.278820596099706\n"
     ]
    }
   ],
   "source": [
    "'''Hypotenues'''\n",
    "# numpy provides the hypot() function that makes the base and perpendicular values and produces hypotenues based on pythgoras.\n",
    "base=3\n",
    "perp=16\n",
    "x=np.hypot(base,perp)\n",
    "print(x)"
   ]
  },
  {
   "cell_type": "code",
   "execution_count": 123,
   "id": "dd5aaf12-43d8-4e35-8dca-3f7099ae05f1",
   "metadata": {},
   "outputs": [
    {
     "name": "stdout",
     "output_type": "stream",
     "text": [
      "2.3012989023072947\n",
      "0.2956730475634224\n",
      "[0.10033535 0.20273255 0.54930614]\n"
     ]
    }
   ],
   "source": [
    "'''Hyperbolic functions'''\n",
    "# ufuncs provides sinh(), cosh(), tanh() that value inn radians and produces corresponding sinh,coh,tanh.\n",
    "x=np.sinh(np.pi/2)\n",
    "print(x)\n",
    "\n",
    "# arr = np.array([np.pi/2, np.pi/3, np.pi/4, np.pi/5])\n",
    "# x=np.cosh(arr)\n",
    "# print(x)\n",
    "\n",
    "'''inverse function values'''\n",
    "arr=np.arcsinh(0.3)\n",
    "print(arr)\n",
    "\n",
    "arr=np.array([0.1,0.2,0.5])\n",
    "x=np.arctanh(arr)\n",
    "print(x)"
   ]
  },
  {
   "cell_type": "code",
   "execution_count": 149,
   "id": "a8455a5e-df83-4c38-90cf-f2be80e4e287",
   "metadata": {},
   "outputs": [
    {
     "name": "stdout",
     "output_type": "stream",
     "text": [
      "[0 1 2 3 4 5 6 7 9]\n",
      "[ 0  1  2  3  4  5  6  7  9 11 12 17]\n",
      "[0 0 0 0 0 1 1 1 2 7 7 9 9]\n",
      "[3 5 6 4]\n",
      "[ 3  4  5  6 11 12 17]\n"
     ]
    }
   ],
   "source": [
    "'''NUmpy set operations'''\n",
    "# set is a mathamatical is acollection of unique elemnts. \n",
    "# sets are used involving frequent intersection, uinon and difference operations.\n",
    "arr=np.array([1,1,2,3,5,7,6,4,9,7,9,0,0,0,0])\n",
    "print(np.unique(arr))\n",
    "\n",
    "#union\n",
    "arr=np.array([1,1,2,3,5,7,6,4,9,7,9,0,0,0,0])\n",
    "arr1=np.array([1,1,2,7,9,0,11,12,17,0])\n",
    "newarr=np.union1d(arr,arr1)\n",
    "print(newarr)\n",
    "\n",
    "#intercsetion\n",
    "arr=np.array([1,1,2,3,5,7,6,4,9,7,9,0,0,0,0])\n",
    "arr1=np.array([1,1,2,7,9,0,11,12,17,0])\n",
    "newarr=np.intersect1d(arr,arr1,assume_unique=True)\n",
    "print(newarr)\n",
    "\n",
    "#Difference\n",
    "arr=np.array([1,1,2,3,5,7,6,4,9,7,9,0,0,0,0])\n",
    "arr1=np.array([1,1,2,7,9,0,11,12,17,0])\n",
    "newarr=np.setdiff1d(arr,arr1,assume_unique=True)\n",
    "print(newarr)\n",
    "\n",
    "#symmetric Difference '''\n",
    "arr=np.array([1,1,2,3,5,7,6,4,9,7,9,0,0,0,0])\n",
    "arr1=np.array([1,1,2,7,9,0,11,12,17,0])\n",
    "newarr=np.setxor1d(arr,arr1,assume_unique=True)\n",
    "print(newarr)\n"
   ]
  }
 ],
 "metadata": {
  "kernelspec": {
   "display_name": "Python 3 (ipykernel)",
   "language": "python",
   "name": "python3"
  },
  "language_info": {
   "codemirror_mode": {
    "name": "ipython",
    "version": 3
   },
   "file_extension": ".py",
   "mimetype": "text/x-python",
   "name": "python",
   "nbconvert_exporter": "python",
   "pygments_lexer": "ipython3",
   "version": "3.12.4"
  }
 },
 "nbformat": 4,
 "nbformat_minor": 5
}
