{
 "cells": [
  {
   "cell_type": "code",
   "execution_count": 5,
   "id": "c94b46c8-8305-4d52-8d92-d0956cd19aee",
   "metadata": {},
   "outputs": [
    {
     "name": "stdout",
     "output_type": "stream",
     "text": [
      "[ 1  2  3 45  6]\n",
      "<class 'numpy.ndarray'>\n"
     ]
    }
   ],
   "source": [
    "#NumPy ia a python Library\n",
    "#Numpy is used for working with arrays.\n",
    "#NUmpy is short for NUMERICAL PYTHON\n",
    "\n",
    "import numpy as np\n",
    "a=np.array([1,2,3,45,6])\n",
    "print(a)\n",
    "print(type(a))"
   ]
  },
  {
   "cell_type": "code",
   "execution_count": 5,
   "id": "e4f0eae3-2884-4081-ba13-e3e051d0b0f4",
   "metadata": {},
   "outputs": [
    {
     "data": {
      "text/plain": [
       "' numpy is a pyhton and is written partially in python , but most of the parts that require fast computationa are written in C or C++.'"
      ]
     },
     "execution_count": 5,
     "metadata": {},
     "output_type": "execute_result"
    }
   ],
   "source": [
    "# WHAT IS NUMPY '''\n",
    "'''numpy is a python library used for working with arrays.\n",
    "It also has function for working in domain of lineaar algebra, fourier transformatiom and matrices.\n",
    "numpy was created in 2005 by Travis Oliphant. It is an open source project and you can use it freely.\n",
    "'''\n",
    "# WHY USE NUMPY \n",
    "'''In python we have lists that serve the purpose of array , but they are slow to process .\n",
    "Numpy aims to provide an array object that is upto 50x faster than traditionalpython lists.\n",
    "the array object in Numpy is called ndarray.\n",
    "It provides a lot of supporting functions that make working with ndarray is veray easy.\n",
    "Arrays are very frequently used in data science,where speed and resources are very important.'''\n",
    "\n",
    "# why is NUMOY faster than lists?\n",
    "'''Numpy array are stored at one continues place in memory unlike lists, so processes can access and manipulate them very efficiently.\n",
    "The behavior is called locality of reference in computer science.\n",
    "This is the main reason why Numpyis faster than lists . Also it is optimized towork with latest CPU architectures. '''\n",
    "\n",
    "# which language is Numpy written in?\n",
    "''' numpy is a pyhton and is written partially in python , but most of the parts that require fast computationa are written in C or C++.'''\n",
    "\n"
   ]
  },
  {
   "cell_type": "code",
   "execution_count": 7,
   "id": "d591d2ec-0705-4a76-8dac-076d5d0ef06b",
   "metadata": {},
   "outputs": [
    {
     "data": {
      "text/plain": [
       "' > pip install numpy\\n    >import numpy      '"
      ]
     },
     "execution_count": 7,
     "metadata": {},
     "output_type": "execute_result"
    }
   ],
   "source": [
    "# Installation of Numpy\n",
    "'''if you have python PIP is already installled on a system, then installaton of Numpy is very easy'''\n",
    "''' > pip install numpy\n",
    "    >import numpy      '''\n"
   ]
  },
  {
   "cell_type": "code",
   "execution_count": 19,
   "id": "428397f7-d71a-4916-9169-a9c0f942deee",
   "metadata": {},
   "outputs": [
    {
     "name": "stdout",
     "output_type": "stream",
     "text": [
      "[1 2 3 4 5 5 4 3]\n",
      "[10  1  2  1  1  1  1]\n"
     ]
    },
    {
     "data": {
      "text/plain": [
       "'1.26.4'"
      ]
     },
     "execution_count": 19,
     "metadata": {},
     "output_type": "execute_result"
    }
   ],
   "source": [
    "import numpy\n",
    "arr=numpy.array([1,2,3,4,5,5,4,3])\n",
    "print(arr)\n",
    "\n",
    "# we can use alias it is very simply\n",
    "import numpy as nu\n",
    "a=nu.array([10,1,2,1,1,1,1])\n",
    "print(a)\n",
    "\n",
    "# checking the Numpy Version\n",
    "# ------> __version__ this is the keyword\n",
    "nu.__version__"
   ]
  },
  {
   "cell_type": "code",
   "execution_count": 29,
   "id": "49d95902-a6fe-448b-843f-b13728aa52d6",
   "metadata": {},
   "outputs": [
    {
     "name": "stdout",
     "output_type": "stream",
     "text": [
      "[1 2 3 4 5]\n",
      "[1 2 3 4 5 6 7]\n"
     ]
    }
   ],
   "source": [
    "'''Create Numpy ndarray object'''\n",
    "# to create an nd arrray ,, we can pass a list , tuple or array-like object into the array()\n",
    "#methid , and it will be converted into an ndarry:\n",
    "\n",
    "import numpy as np\n",
    "arr=np.array((1,2,3,4,5))\n",
    "arr1=np.array([1,2,3,4,5,6,7])\n",
    "print(arr)\n",
    "print(arr1)"
   ]
  },
  {
   "cell_type": "code",
   "execution_count": 115,
   "id": "a76c1ccd-f2ec-473f-b3dc-e810108bff1b",
   "metadata": {},
   "outputs": [
    {
     "name": "stdout",
     "output_type": "stream",
     "text": [
      "200\n",
      "[100 200 300 400 500]\n",
      "[[100 200 300 400 500]\n",
      " [  1   2   3   4   5]]\n",
      "[[[100 200 300 400 500]\n",
      "  [  1   2   3   4   5]]\n",
      "\n",
      " [[110 230 309 445 592]\n",
      "  [  1   2   3   4   5]]]\n",
      "0\n",
      "1\n",
      "2\n",
      "3\n",
      "[[[[[[[[[[1 2 3 4 5 6 7 8]]]]]]]]]]\n",
      "no.of dimensions: 10\n"
     ]
    }
   ],
   "source": [
    "# DIMENSIONS IN ARRAYS\n",
    "'''\n",
    "0-D Arrays or scalar\n",
    "1-d Arrays  or uni-dimensional array\n",
    "2-D Array\n",
    "3-D Arrays\n",
    "'''\n",
    "\n",
    "# 0-D arr\n",
    "arr=np.array(200)\n",
    "print(arr)\n",
    "\n",
    "#1-D arr\n",
    "arr1=np.array([100,200,300,400,500])\n",
    "print(arr1)\n",
    "\n",
    "#2-D arr\n",
    "arr2=np.array([[100,200,300,400,500],[1,2,3,4,5]])\n",
    "print(arr2)\n",
    "\n",
    "#3-D arr\n",
    "arr3=np.array([[[100,200,300,400,500],[1,2,3,4,5]],[[110,230,309,445,592],[1,2,3,4,5]]])\n",
    "print(arr3)\n",
    "type(arr3)\n",
    "\n",
    "# check the which dimensions\n",
    "print(arr.ndim)\n",
    "print(arr1.ndim)\n",
    "print(arr2.ndim)\n",
    "print(arr3.ndim)\n",
    "\n",
    "\n",
    "# Higher Dimensional Arrays\n",
    "#we can create n no.of dimnesions\n",
    "arr=np.array([1,2,3,4,5,6,7,8],ndmin=10)\n",
    "print(arr)\n",
    "print('no.of dimensions:',arr.ndim)"
   ]
  },
  {
   "cell_type": "code",
   "execution_count": 117,
   "id": "4e054a1f-33ba-4a95-9914-07b05c5e0b90",
   "metadata": {},
   "outputs": [
    {
     "name": "stdout",
     "output_type": "stream",
     "text": [
      "[1, 2, 3, 1.2, 'q', 'w', 5, 6, 7, 8, 9, 10, True, False, 0, 1]\n",
      "1\n",
      "[5, 6, 7, 8, 9, 10, True, False, 0, 1]\n",
      "[7, 8, 9, 10, True, False, 0]\n",
      "[5, 6, 7, 8, 9, 10]\n",
      "[1, 2]\n"
     ]
    }
   ],
   "source": [
    "# ARRAy indexing\n",
    "arr=[1,2,3,1.2,'q','w',5,6,7,8,9,10,True,False,0,1]\n",
    "print(arr)\n",
    "print(arr[0])\n",
    "print(arr[6:])\n",
    "print(arr[-8:-1])\n",
    "print(arr[6:-4])\n",
    "print(arr[:2])"
   ]
  },
  {
   "cell_type": "code",
   "execution_count": 151,
   "id": "0267bfe1-9643-4521-9069-c71c2d14ea98",
   "metadata": {},
   "outputs": [
    {
     "name": "stdout",
     "output_type": "stream",
     "text": [
      "[[100 200 300 400 500]\n",
      " [  1   2   3   4   5]]\n",
      "500\n",
      "4\n",
      "3\n",
      "11\n",
      "[10 11 12]\n",
      "300\n"
     ]
    }
   ],
   "source": [
    "arr2=np.array([[100,200,300,400,500],[1,2,3,4,5]])\n",
    "print(arr2)\n",
    "print(arr2[0,4])\n",
    "print(arr2[1,3])\n",
    "arr = np.array([[[1, 2, 3], [4, 5, 6]], [[7, 8, 9], [10, 11, 12]]])\n",
    "print(arr[0,0,2])\n",
    "print(arr[1,1,-2])\n",
    "print(arr[1,-1])\n",
    "print(arr2[0,-3])"
   ]
  },
  {
   "cell_type": "code",
   "execution_count": 205,
   "id": "0f6d56d0-f540-4b57-ae32-81be9b6b4708",
   "metadata": {},
   "outputs": [
    {
     "name": "stdout",
     "output_type": "stream",
     "text": [
      "[1000 1100 1200 1300 1400]\n",
      "[200 300 400 500]\n",
      "[ 100  300  500  700  900 1100]\n",
      "[200 500 800]\n",
      "[ 100  300  500  700  900 1100 1300 1500]\n",
      "\n",
      "[2 3 4]\n",
      "[2 3 4]\n",
      "[300   3]\n",
      "[[200 300]\n",
      " [  2   3]]\n"
     ]
    }
   ],
   "source": [
    "''' NumPy Array Slicing '''\n",
    "# it means taking  elemments froom one index to another given index \n",
    "# [start : end ],[start:end:step]\n",
    "#if we don't pass start its considered 0\n",
    "# if we don't pass end its considered length of the aarray in that dimension\n",
    "# if we don't pass step its considered 1\n",
    "\n",
    "arr1=np.array([100,200,300,400,500,600,700,800,900,1000,1100,1200,1300,1400,1500])\n",
    "print(arr1[-6:-1])\n",
    "print(arr1[1:5])\n",
    "print(arr1[0:11:2])\n",
    "print(arr1[1:10:3])\n",
    "print(arr1[::2])\n",
    "print()\n",
    "arr2=np.array([[100,200,300,400,500],[1,2,3,4,5]])\n",
    "print(arr2[1,1:4])\n",
    "print(arr2[1,1:4])\n",
    "print(arr2[0:2,2]) # it is very difficult so much connfusion\n",
    "print(arr2[0:2,1:3])"
   ]
  },
  {
   "cell_type": "code",
   "execution_count": 9,
   "id": "5818867f-ca30-4286-a283-58ed1cf62404",
   "metadata": {},
   "outputs": [
    {
     "name": "stdout",
     "output_type": "stream",
     "text": [
      "[ 1 23  4  5  6  7]\n",
      "int32\n"
     ]
    }
   ],
   "source": [
    "# Data types\n",
    "import numpy as np\n",
    "arr= np.array([1,23,4,5,6,7])\n",
    "print(arr)\n",
    "print(arr.dtype)"
   ]
  },
  {
   "cell_type": "code",
   "execution_count": 13,
   "id": "7f295968-cb49-49fb-8506-7da2be54ae0c",
   "metadata": {},
   "outputs": [
    {
     "name": "stdout",
     "output_type": "stream",
     "text": [
      "<U5\n"
     ]
    }
   ],
   "source": [
    "arr=np.array(['ravi','kumar','manu','mani'])\n",
    "print(arr.dtype)"
   ]
  },
  {
   "cell_type": "code",
   "execution_count": 23,
   "id": "127a7a57-255a-4a34-9398-832978b20844",
   "metadata": {},
   "outputs": [
    {
     "name": "stdout",
     "output_type": "stream",
     "text": [
      "|S2\n"
     ]
    }
   ],
   "source": [
    "# Creating Arrays with a defined dats type\n",
    "\n",
    "arr= np.array([1,23,4,5,6,7],dtype='S')\n",
    "print(arr.dtype)"
   ]
  },
  {
   "cell_type": "code",
   "execution_count": 45,
   "id": "4999c5bc-e03d-4841-9dab-78df09732e3b",
   "metadata": {},
   "outputs": [
    {
     "name": "stdout",
     "output_type": "stream",
     "text": [
      "<U2\n"
     ]
    }
   ],
   "source": [
    "arr= np.array([1,23,4,5,6,7],dtype='U')\n",
    "print(arr.dtype)"
   ]
  },
  {
   "cell_type": "code",
   "execution_count": 13,
   "id": "d2736ece-fa30-4c44-873d-3481acd1bd3d",
   "metadata": {},
   "outputs": [
    {
     "ename": "ValueError",
     "evalue": "invalid literal for int() with base 10: 'a'",
     "output_type": "error",
     "traceback": [
      "\u001b[1;31m---------------------------------------------------------------------------\u001b[0m",
      "\u001b[1;31mValueError\u001b[0m                                Traceback (most recent call last)",
      "Cell \u001b[1;32mIn[13], line 2\u001b[0m\n\u001b[0;32m      1\u001b[0m \u001b[38;5;66;03m# If a type is given elements can't be casted then Numpy will raise a valueError\u001b[39;00m\n\u001b[1;32m----> 2\u001b[0m arr\u001b[38;5;241m=\u001b[39m np\u001b[38;5;241m.\u001b[39marray([\u001b[38;5;241m1\u001b[39m,\u001b[38;5;241m23\u001b[39m,\u001b[38;5;124m'\u001b[39m\u001b[38;5;124ma\u001b[39m\u001b[38;5;124m'\u001b[39m,\u001b[38;5;241m5\u001b[39m,\u001b[38;5;241m6.3\u001b[39m,\u001b[38;5;241m7\u001b[39m],dtype\u001b[38;5;241m=\u001b[39m\u001b[38;5;28mint\u001b[39m)\n\u001b[0;32m      3\u001b[0m \u001b[38;5;28mprint\u001b[39m(arr)\n",
      "\u001b[1;31mValueError\u001b[0m: invalid literal for int() with base 10: 'a'"
     ]
    }
   ],
   "source": [
    "# If a type is given elements can't be casted then Numpy will raise a valueError\n",
    "arr= np.array([1,23,'a',5,6.3,7],dtype=int)\n",
    "print(arr)"
   ]
  },
  {
   "cell_type": "code",
   "execution_count": 71,
   "id": "3c2e14d2-3ac8-45ff-a035-17bed15e2153",
   "metadata": {},
   "outputs": [
    {
     "name": "stdout",
     "output_type": "stream",
     "text": [
      "[1 2 3 4 5]\n",
      "float64\n"
     ]
    }
   ],
   "source": [
    "#Converting Dat type on Existing arrays\n",
    "''' in this concept we are using type casting concept\n",
    ">we useful to method astype() \n",
    ">like float into integer '''\n",
    "\n",
    "# arr=np.array([1.1,2.2,3.3,4.4,5.5])\n",
    "# print(arr.astype('i'))\n",
    "# print(arr.dtype)\n",
    "#      (0r)\n",
    "arr=np.array([1.1,2.2,3.3,4.4,5.5])\n",
    "print(arr.astype(int))\n",
    "print(arr.dtype)"
   ]
  },
  {
   "cell_type": "code",
   "execution_count": 79,
   "id": "c2157103-f462-459c-a4fc-309c42a086f0",
   "metadata": {},
   "outputs": [
    {
     "name": "stdout",
     "output_type": "stream",
     "text": [
      "[ True  True  True  True  True False  True  True  True False False]\n",
      "float64\n"
     ]
    }
   ],
   "source": [
    "arr=np.array([1,2,3,4,5,0,9,2,-1,0.0,-0.0])\n",
    "print(arr.astype(bool))\n",
    "print(arr.dtype)\n"
   ]
  },
  {
   "cell_type": "code",
   "execution_count": 111,
   "id": "6b9ed7c1-020d-41d4-af5e-14c75ead0231",
   "metadata": {},
   "outputs": [
    {
     "name": "stdout",
     "output_type": "stream",
     "text": [
      "['35' '2' '32.3' 'de' '3' 'd']\n",
      "['1' '2' '32.3' 'de' '3' 'd']\n",
      "\n",
      "['1' '2' '32.3' 'de' '35' 'd']\n",
      "['1' '2' '32.3' 'de' '35' 'd']\n",
      "\n",
      "None\n",
      "['1' '2' '32.3' 'de' '35' 'd']\n"
     ]
    }
   ],
   "source": [
    "# diffference between the copy and view\n",
    "''' first of all copy is nothing but it is one data , this data copy that means no \n",
    "channges of the data and also not affect   the original arrray\n",
    ">another one is view is does not own the data ,also channges the data and affect the original array '''\n",
    "\n",
    "arr=np.array([1,2,32.3,'de',3,'d'])\n",
    "# arr[0]=42\n",
    "# print(arr)\n",
    "# print(arr.copy())\n",
    "x=arr.copy()\n",
    "arr[0]=35\n",
    "print(arr)\n",
    "print(x)\n",
    "\n",
    "print()\n",
    "\n",
    "arr=np.array([1,2,32.3,'de',3,'d'])\n",
    "y=arr.view()\n",
    "arr[4]=35\n",
    "print(arr)\n",
    "print(y)\n",
    "\n",
    "# if check the array is owns the data or not\n",
    "print()\n",
    "x=arr.copy()\n",
    "y=arr.view()\n",
    "print(x.base)   # it doesn't own the data\n",
    "print(y.base)   # it owns the data"
   ]
  },
  {
   "cell_type": "code",
   "execution_count": 19,
   "id": "bf361475-9ebc-49ae-8db6-b02451b2b2a0",
   "metadata": {},
   "outputs": [
    {
     "name": "stdout",
     "output_type": "stream",
     "text": [
      "(2, 4)\n"
     ]
    }
   ],
   "source": [
    "'''shape of the Array '''\n",
    "arr = np.array([[1, 2, 3, 4], [5, 6, 7, 8]])\n",
    "print(arr.shape)"
   ]
  },
  {
   "cell_type": "code",
   "execution_count": 5,
   "id": "fb342431-9622-4015-a4e4-751f6edfc2ff",
   "metadata": {},
   "outputs": [
    {
     "name": "stdout",
     "output_type": "stream",
     "text": [
      "[[[[[1 2 3 4 5 6]]]]]\n",
      "(1, 1, 1, 1, 6)\n",
      "\n",
      "(2, 1, 1, 1, 1, 6)\n"
     ]
    }
   ],
   "source": [
    "import numpy as np\n",
    "arr=np.array([])\n",
    "arr=np.array([1,2,3,4,5,6], ndmin=5)\n",
    "print(arr)\n",
    "print(arr.shape)\n",
    "print()\n",
    "arr=np.array([[[[[[1, 2 ,3, 4, 5, 6]]]]],[[[[[1, 2, 3, 4 ,5 ,6]]]]]])    #'''can't understandable'''\n",
    "print(arr.shape)\n"
   ]
  },
  {
   "cell_type": "code",
   "execution_count": 5,
   "id": "f6927b1d-d264-4bc4-bb11-50f0e5b87000",
   "metadata": {},
   "outputs": [
    {
     "name": "stdout",
     "output_type": "stream",
     "text": [
      "[[[ 1  2]\n",
      "  [ 3  4]\n",
      "  [ 5  6]]\n",
      "\n",
      " [[ 7  8]\n",
      "  [ 9 10]\n",
      "  [11 12]]]\n"
     ]
    }
   ],
   "source": [
    "#'''Reshaping arrays '''\n",
    "''' reshaping means changing the shape of the array\n",
    "  > the shape of the array is the number of elements in each dimension.\n",
    "  >By rshaping ea can add or remove dimensions or change number of elements in each dimension'''\n",
    "\n",
    "# reshape with 1-D to 2-D\n",
    "arr=np.array([1,2,3,4,5,6,7,8,9,10,11,12])\n",
    "newarr=arr.reshape(2,3,2)\n",
    "print(newarr)\n"
   ]
  },
  {
   "cell_type": "code",
   "execution_count": 41,
   "id": "94efb2e0-c974-4de5-903a-124ea79301d5",
   "metadata": {},
   "outputs": [
    {
     "name": "stdout",
     "output_type": "stream",
     "text": [
      "(12,)\n",
      "[[ 1  2  3]\n",
      " [ 4  5  6]\n",
      " [ 7  8  9]\n",
      " [10 11 12]]\n",
      "\n",
      "[[ 1  2  3  4  5  6]\n",
      " [ 7  8  9 10 11 12]]\n",
      "\n",
      "[[ 1  2  3  4]\n",
      " [ 5  6  7  8]\n",
      " [ 9 10 11 12]]\n",
      "\n",
      "[[ 1  2  3  4  5  6  7  8  9 10 11 12]]\n",
      "\n",
      "[[ 1]\n",
      " [ 2]\n",
      " [ 3]\n",
      " [ 4]\n",
      " [ 5]\n",
      " [ 6]\n",
      " [ 7]\n",
      " [ 8]\n",
      " [ 9]\n",
      " [10]\n",
      " [11]\n",
      " [12]]\n",
      "\n",
      "[[[ 1  2]\n",
      "  [ 3  4]\n",
      "  [ 5  6]]\n",
      "\n",
      " [[ 7  8]\n",
      "  [ 9 10]\n",
      "  [11 12]]]\n",
      "\n",
      "[[[ 1  2]\n",
      "  [ 3  4]]\n",
      "\n",
      " [[ 5  6]\n",
      "  [ 7  8]]\n",
      "\n",
      " [[ 9 10]\n",
      "  [11 12]]]\n",
      "\n",
      "[[[ 1  2  3]\n",
      "  [ 4  5  6]]\n",
      "\n",
      " [[ 7  8  9]\n",
      "  [10 11 12]]]\n"
     ]
    }
   ],
   "source": [
    "arr=np.array([1,2,3,4,5,6,7,8,9,10,11,12])\n",
    "print(arr.shape)\n",
    "newarr=arr.reshape(4,3)\n",
    "print(newarr)\n",
    "print()\n",
    "newarr=arr.reshape(2,6)\n",
    "print(newarr)\n",
    "print()\n",
    "newarr=arr.reshape(3,4)\n",
    "print(newarr)\n",
    "print()\n",
    "newarr=arr.reshape(1,12)\n",
    "print(newarr)\n",
    "print()\n",
    "newarr=arr.reshape(12,1)\n",
    "print(newarr)\n",
    "print()\n",
    "newarr=arr.reshape(2,3,2)\n",
    "print(newarr)\n",
    "print()\n",
    "newarr=arr.reshape(3,2,2)\n",
    "print(newarr)\n",
    "\n",
    "print()\n",
    "newarr=arr.reshape(2,2,3)\n",
    "print(newarr)\n",
    "\n"
   ]
  },
  {
   "cell_type": "code",
   "execution_count": 49,
   "id": "15821127-9b99-42e6-919b-064a9f2c5595",
   "metadata": {},
   "outputs": [
    {
     "name": "stdout",
     "output_type": "stream",
     "text": [
      "[[[ 1  2]\n",
      "  [ 3  4]\n",
      "  [ 5  6]\n",
      "  [ 7  8]\n",
      "  [ 9 10]\n",
      "  [11 12]]]\n",
      "\n",
      "[[[ 1]\n",
      "  [ 2]]\n",
      "\n",
      " [[ 3]\n",
      "  [ 4]]\n",
      "\n",
      " [[ 5]\n",
      "  [ 6]]\n",
      "\n",
      " [[ 7]\n",
      "  [ 8]]\n",
      "\n",
      " [[ 9]\n",
      "  [10]]\n",
      "\n",
      " [[11]\n",
      "  [12]]]\n"
     ]
    }
   ],
   "source": [
    "newarr=arr.reshape(1,6,2)\n",
    "print(newarr)\n",
    "print()\n",
    "newarr=arr.reshape(6,2,1)\n",
    "print(newarr)\n"
   ]
  },
  {
   "cell_type": "code",
   "execution_count": 67,
   "id": "96b93ebb-c4e9-4aa4-9d85-beedfe836313",
   "metadata": {},
   "outputs": [
    {
     "name": "stdout",
     "output_type": "stream",
     "text": [
      "[[[1 2]\n",
      "  [3 4]]\n",
      "\n",
      " [[5 6]\n",
      "  [7 8]]]\n",
      "\n",
      "[1 2 3 4 5 6 7 8]\n",
      "[1 2 3 4 5 6 7 8]\n"
     ]
    }
   ],
   "source": [
    "# UNKNOWN DIMENSION\n",
    "''' YOu are allowwed to have ''unknown'' dimesion.\n",
    " >Meaning that you do not have to specify an number for one of he dimensions in the reshape method\n",
    " > pass the -1 value and Numpy will calculate this number for you\n",
    " '''\n",
    "newarr=arr.reshape(2,2,-1)\n",
    "print(newarr)\n",
    "print()\n",
    "\n",
    "# Flattering arrays\n",
    "'''flattering array means converting a multidimensional array into !-D array\n",
    "  > we can use reshape(-1) to do this. '''\n",
    "\n",
    "arr = np.array([[1, 2, 3, 4], [5, 6, 7, 8]])\n",
    "print(arr.reshape(-1))\n",
    "\n",
    "#      (or)\n",
    "print(arr.reshape(8))"
   ]
  },
  {
   "cell_type": "code",
   "execution_count": 79,
   "id": "64b38fbf-3411-4b4e-984a-97537b082615",
   "metadata": {},
   "outputs": [
    {
     "name": "stdout",
     "output_type": "stream",
     "text": [
      "1\n",
      "2\n",
      "3\n",
      "4\n",
      "5\n",
      "6\n"
     ]
    }
   ],
   "source": [
    "# Iterating Arrays\n",
    "'''\n",
    "Iterating means iterate each element in one by one. '''\n",
    "arr=np.array([1,2,3,4,5,6])\n",
    "for i in arr:\n",
    "    print(i)"
   ]
  },
  {
   "cell_type": "code",
   "execution_count": 81,
   "id": "874d554c-998c-48d9-bf7e-29cddd37132e",
   "metadata": {},
   "outputs": [
    {
     "name": "stdout",
     "output_type": "stream",
     "text": [
      "[1 2 3 4 5 6]\n",
      "[ 8  9 10 11 12 13]\n"
     ]
    }
   ],
   "source": [
    "# 2-D iterating\n",
    "arr=np.array([[1,2,3,4,5,6],[8,9,10,11,12,13]])\n",
    "for i in arr:\n",
    "    print(i)"
   ]
  },
  {
   "cell_type": "code",
   "execution_count": 91,
   "id": "ea54a431-a055-4ed8-8be8-a78e7707f717",
   "metadata": {},
   "outputs": [
    {
     "name": "stdout",
     "output_type": "stream",
     "text": [
      "[[1 2 3]\n",
      " [4 5 6]]\n",
      "[[ 8  9 10]\n",
      " [11 12 13]]\n"
     ]
    }
   ],
   "source": [
    "# 3-D Iterating\n",
    "'''If we iterate on a n-D array it will go through n-1th dimension one by one.'''\n",
    "arr=np.array([[[1,2,3],[4,5,6]],[[8,9,10],[11,12,13]]])\n",
    "for i in arr:\n",
    "    print(i)"
   ]
  },
  {
   "cell_type": "code",
   "execution_count": 87,
   "id": "78771950-1a0a-46a9-8f3f-24b05f06db32",
   "metadata": {},
   "outputs": [
    {
     "name": "stdout",
     "output_type": "stream",
     "text": [
      "1\n",
      "2\n",
      "3\n",
      "4\n",
      "5\n",
      "6\n",
      "8\n",
      "9\n",
      "10\n",
      "11\n",
      "12\n",
      "13\n"
     ]
    }
   ],
   "source": [
    "arr=np.array([[1,2,3,4,5,6],[8,9,10,11,12,13]])\n",
    "for x in arr:\n",
    "    for y in x: \n",
    "        print(y)\n",
    "\n"
   ]
  },
  {
   "cell_type": "code",
   "execution_count": 95,
   "id": "77c5deb1-5834-4a8e-b1ba-87bd3063e49f",
   "metadata": {},
   "outputs": [
    {
     "name": "stdout",
     "output_type": "stream",
     "text": [
      "1\n",
      "2\n",
      "3\n",
      "4\n",
      "5\n",
      "6\n",
      "8\n",
      "9\n",
      "10\n",
      "11\n",
      "12\n",
      "13\n"
     ]
    }
   ],
   "source": [
    "arr=np.array([[[1,2,3],[4,5,6]],[[8,9,10],[11,12,13]]])\n",
    "for x in arr:\n",
    "    for y in x:\n",
    "        for z in y:\n",
    "            print(z)"
   ]
  },
  {
   "cell_type": "code",
   "execution_count": 11,
   "id": "8c4891e7-1d02-4fa0-9166-45bca6df0b9a",
   "metadata": {},
   "outputs": [
    {
     "name": "stdout",
     "output_type": "stream",
     "text": [
      "1\n",
      "2\n",
      "3\n",
      "4\n"
     ]
    }
   ],
   "source": [
    "# iterating Arrays using nditer()\n",
    "'''Thefunction nditer() is a helping function that can be used from very basic to very advanced iteratioon. It solves bsic wwhich we face initeration, lets go through it with examples.'''\n",
    "# in basic for loops,iterating through each scalar of an arrya of an array we need to ude n for loops which can be difficult to write for with very high dimensionality\n",
    "arr=np.array([1,2,3,4])\n",
    "for k in np.nditer(arr):\n",
    "    print(k)\n"
   ]
  },
  {
   "cell_type": "code",
   "execution_count": 47,
   "id": "e8725c76-f7f6-4f55-bb55-1af38eb5e02f",
   "metadata": {},
   "outputs": [
    {
     "name": "stdout",
     "output_type": "stream",
     "text": [
      "b'1'\n",
      "b'2'\n",
      "b'3'\n",
      "b'4'\n",
      "1\n",
      "4\n",
      "7\n",
      "10\n",
      "1\n",
      "4\n",
      "7\n",
      "10\n"
     ]
    }
   ],
   "source": [
    "# iterating Array with different data Types :\n",
    "''' we can use op_dtypes argument and pass it the expected datatype to change the datatype of elements while iterating.\n",
    "NumPy doesn't change the data type  of the element in-place (where the elemets is in array) so it needs some other space to perform this acton,\n",
    "that extra space is called buffer , and in order to enable it in nditer() and pass flags=['buffered']. '''\n",
    "arr=np.array([1,2,3,4])\n",
    "for k in np.nditer(arr,flags=['buffered'],op_dtypes=['S']):\n",
    "    print(k)\n",
    "# iteratign with Difeerent step size   or  slicing\n",
    "\n",
    "arr=np.array([[1,2,3,4,5,6,7,8,9,10],[1,2,3,4,5,6,7,8,9,10]])\n",
    "for x in np.nditer(arr[:,::3]) :\n",
    "    print(x)\n"
   ]
  },
  {
   "cell_type": "code",
   "execution_count": 53,
   "id": "3ba39f4c-51f5-4b63-bf64-9363b6393ac6",
   "metadata": {},
   "outputs": [
    {
     "name": "stdout",
     "output_type": "stream",
     "text": [
      "(0,) 1\n",
      "(1,) 2\n",
      "(2,) 3\n",
      "(3,) 4\n",
      "(4,) 5\n",
      "(5,) 6\n",
      "(6,) 7\n",
      "(7,) 8\n",
      "(8,) 9\n",
      "(9,) 10\n"
     ]
    }
   ],
   "source": [
    "# ENumerated Iterationn using ndenumerate()\n",
    "''' Enumeration means mentioning sequence number of something one by one.\n",
    " sometimes we require corresponding index of the element while iterating, the ndenumerate() method can be used for those usecases. '''\n",
    "arr=np.array([1,2,3,4,5,6,7,8,9,10])\n",
    "for i, x in  np.ndenumerate(arr):\n",
    "    print(i,x)"
   ]
  },
  {
   "cell_type": "code",
   "execution_count": 59,
   "id": "7150352b-ff35-4b02-aad2-814d7d582085",
   "metadata": {},
   "outputs": [
    {
     "name": "stdout",
     "output_type": "stream",
     "text": [
      "(0, 0) 1.0\n",
      "(0, 1) 2.0\n",
      "(0, 2) 3.0\n",
      "(0, 3) 4.0\n",
      "(0, 4) 5.0\n",
      "(0, 5) 6.0\n",
      "(0, 6) 7.0\n",
      "(0, 7) 8.0\n",
      "(0, 8) 9.1\n",
      "(1, 0) 1.0\n",
      "(1, 1) 2.0\n",
      "(1, 2) 3.0\n",
      "(1, 3) 4.0\n",
      "(1, 4) 5.0\n",
      "(1, 5) 6.0\n",
      "(1, 6) 7.0\n",
      "(1, 7) 8.0\n",
      "(1, 8) 9.1\n",
      "(2, 0) 1.0\n",
      "(2, 1) 2.0\n",
      "(2, 2) 3.0\n",
      "(2, 3) 4.0\n",
      "(2, 4) 5.0\n",
      "(2, 5) 6.0\n",
      "(2, 6) 7.0\n",
      "(2, 7) 8.0\n",
      "(2, 8) 9.1\n"
     ]
    }
   ],
   "source": [
    "#2-D Enumerated\n",
    "arr=np.array([[1,2,3,4,5,6,7,8,9.10],[1,2,3,4,5,6,7,8,9.10],[1,2,3,4,5,6,7,8,9.10]])\n",
    "for idx, x in  np.ndenumerate(arr):\n",
    "    print(idx,x)\n",
    "    "
   ]
  },
  {
   "cell_type": "code",
   "execution_count": 155,
   "id": "7d7738b5-efe4-439d-9369-586934daea85",
   "metadata": {},
   "outputs": [
    {
     "name": "stdout",
     "output_type": "stream",
     "text": [
      "[ 1.   2.   3.   4.   5.   6.   7.   8.   9.5 10.  11.  12.  13.  14.\n",
      " 15.  16.  17.  18.  19.6 20. ]\n",
      "[[ 1  2  3  4  5 11 12 13 14 15]\n",
      " [ 6  7  8  9 10 16 17 18 19 20]]\n"
     ]
    }
   ],
   "source": [
    "# JOining Arrays \n",
    "# 1-D ARRAy joining\n",
    "arr1=np.array([1,2,3,4,5,6,7,8,9.5,10])\n",
    "arr2=np.array([11,12,13,14,15,16,17,18,19.6,20])\n",
    "arr=np.concatenate((arr1,arr2))\n",
    "print(arr)\n",
    "\n",
    "\n",
    "# 2_ D ARRAY Joining\n",
    "arr1=np.array([[1,2,3,4,5],[6,7,8,9,10]])\n",
    "arr2=np.array([[11,12,13,14,15],[16,17,18,19,20]])\n",
    "arr=np.concatenate((arr1,arr2),axis=1)\n",
    "print(arr)"
   ]
  },
  {
   "cell_type": "code",
   "execution_count": 161,
   "id": "de7af00c-98bb-4062-bbd3-abf1c4dbccc1",
   "metadata": {},
   "outputs": [
    {
     "name": "stdout",
     "output_type": "stream",
     "text": [
      "[[  1  11]\n",
      " [  2  12]\n",
      " [  3  13]\n",
      " [  4  14]\n",
      " [  5  15]\n",
      " [  6  16]\n",
      " [  7  17]\n",
      " [  8  18]\n",
      " [ 95 196]\n",
      " [ 10  20]]\n",
      "\n",
      "[[[ 1  2  3  4  5]\n",
      "  [ 6  7  8  9 10]]\n",
      "\n",
      " [[11 12 13 14 15]\n",
      "  [16 17 18 19 20]]]\n"
     ]
    }
   ],
   "source": [
    "# JOining Arrays using Stack Functions\n",
    "''' stacking is same as concatenate, the only difference is that stacking is done along a new axias.'''\n",
    "arr1=np.array([1,2,3,4,5,6,7,8,95,10])\n",
    "arr2=np.array([11,12,13,14,15,16,17,18,196,20])\n",
    "arr=np.stack((arr1,arr2),axis=1)\n",
    "print(arr)\n",
    "print()\n",
    "arr1=np.array([[1,2,3,4,5],[6,7,8,9,10]])\n",
    "arr2=np.array([[11,12,13,14,15],[16,17,18,19,20]])\n",
    "arr=np.stack((arr1,arr2))\n",
    "print(arr)"
   ]
  },
  {
   "cell_type": "code",
   "execution_count": 173,
   "id": "3a506158-5b77-4266-9dd8-d275871358f9",
   "metadata": {},
   "outputs": [
    {
     "name": "stdout",
     "output_type": "stream",
     "text": [
      "[[ 1  2  3  4  5 11 12 13 14 15]\n",
      " [ 6  7  8  9 10 16 17 18 19 20]]\n"
     ]
    }
   ],
   "source": [
    "# stacking along Rows\n",
    "''' Numpy provides a helper function : hstack() to stack rows. '''\n",
    "arr1=np.array([[1,2,3,4,5],[6,7,8,9,10]])\n",
    "arr2=np.array([[11,12,13,14,15],[16,17,18,19,20]])\n",
    "arr=np.hstack((arr1,arr2))\n",
    "print(arr)"
   ]
  },
  {
   "cell_type": "code",
   "execution_count": 175,
   "id": "cc7937dc-63b2-4525-9a00-8c7943a6bb33",
   "metadata": {},
   "outputs": [
    {
     "name": "stdout",
     "output_type": "stream",
     "text": [
      "[[ 1  2  3  4  5]\n",
      " [ 6  7  8  9 10]\n",
      " [11 12 13 14 15]\n",
      " [16 17 18 19 20]]\n"
     ]
    }
   ],
   "source": [
    "# Stacking Along columns\n",
    "arr1=np.array([[1,2,3,4,5],[6,7,8,9,10]])\n",
    "arr2=np.array([[11,12,13,14,15],[16,17,18,19,20]])\n",
    "arr=np.vstack((arr1,arr2))\n",
    "print(arr)"
   ]
  },
  {
   "cell_type": "code",
   "execution_count": 177,
   "id": "2ab2f770-bf36-4117-a55d-e8610124480e",
   "metadata": {},
   "outputs": [
    {
     "name": "stdout",
     "output_type": "stream",
     "text": [
      "[[[ 1 11]\n",
      "  [ 2 12]\n",
      "  [ 3 13]\n",
      "  [ 4 14]\n",
      "  [ 5 15]]\n",
      "\n",
      " [[ 6 16]\n",
      "  [ 7 17]\n",
      "  [ 8 18]\n",
      "  [ 9 19]\n",
      "  [10 20]]]\n"
     ]
    }
   ],
   "source": [
    "# stacking along height (depth)\n",
    "''' numpy provides a helper function: dstack() to stack along height, which is ths same as depth. '''\n",
    "arr1=np.array([[1,2,3,4,5],[6,7,8,9,10]])\n",
    "arr2=np.array([[11,12,13,14,15],[16,17,18,19,20]])\n",
    "arr=np.dstack((arr1,arr2))\n",
    "print(arr)"
   ]
  },
  {
   "cell_type": "code",
   "execution_count": 3,
   "id": "d62dc756-fc3f-4f0e-9375-7625b04985f3",
   "metadata": {},
   "outputs": [
    {
     "name": "stdout",
     "output_type": "stream",
     "text": [
      "[array([1, 2, 3]), array([4, 5, 6]), array([7, 8]), array([ 9, 10])]\n"
     ]
    }
   ],
   "source": [
    "# NumPy Splitting Array\n",
    "# 1-d  to two 1-d\n",
    "import numpy as np\n",
    "arr=np.array([1,2,3,4,5,6,7,8,9,10])\n",
    "newarr=np.array_split(arr,4)\n",
    "print(newarr)"
   ]
  },
  {
   "cell_type": "code",
   "execution_count": 229,
   "id": "98e0b7b9-0e16-46ab-8854-b5977d5036b6",
   "metadata": {},
   "outputs": [
    {
     "name": "stdout",
     "output_type": "stream",
     "text": [
      "[array([[1, 2],\n",
      "       [3, 4]]), array([[5, 6],\n",
      "       [7, 8]]), array([[ 9, 10],\n",
      "       [11, 12]])]\n",
      "[[1 2]\n",
      " [3 4]]\n",
      "[[5 6]\n",
      " [7 8]]\n",
      "[[ 9 10]\n",
      " [11 12]]\n"
     ]
    }
   ],
   "source": [
    "#2-D Array to three 2-D array\n",
    "# \n",
    "arr = np.array([[1, 2], [3, 4], [5, 6], [7, 8], [9, 10], [11, 12]])\n",
    "\n",
    "newarr = np.array_split(arr, 3)\n",
    "print(newarr)\n",
    "\n",
    "print(newarr[0])\n",
    "print(newarr[1])\n",
    "print(newarr[2])"
   ]
  },
  {
   "cell_type": "code",
   "execution_count": 239,
   "id": "605c700b-ea01-45c6-8838-1c62a484fb20",
   "metadata": {},
   "outputs": [
    {
     "name": "stdout",
     "output_type": "stream",
     "text": [
      "[array([[ 1],\n",
      "       [ 4],\n",
      "       [ 7],\n",
      "       [10],\n",
      "       [13],\n",
      "       [16]]), array([[ 2],\n",
      "       [ 5],\n",
      "       [ 8],\n",
      "       [11],\n",
      "       [14],\n",
      "       [17]]), array([[ 3],\n",
      "       [ 6],\n",
      "       [ 9],\n",
      "       [12],\n",
      "       [15],\n",
      "       [18]])]\n"
     ]
    }
   ],
   "source": [
    "#3-D Array\n",
    "# this 1-axis means is gives user point of view one by one column\n",
    "arr = np.array([[1, 2, 3], [4, 5, 6], [7, 8, 9], [10, 11, 12], [13, 14, 15], [16, 17, 18]])\n",
    "\n",
    "newarr = np.array_split(arr, 3,axis=1)\n",
    "\n",
    "print(newarr)"
   ]
  },
  {
   "cell_type": "code",
   "execution_count": 243,
   "id": "b00b852c-a8a0-42c3-8883-9c7f67987aec",
   "metadata": {},
   "outputs": [
    {
     "name": "stdout",
     "output_type": "stream",
     "text": [
      "[array([[ 1],\n",
      "       [ 4],\n",
      "       [ 7],\n",
      "       [10],\n",
      "       [13],\n",
      "       [16]]), array([[ 2],\n",
      "       [ 5],\n",
      "       [ 8],\n",
      "       [11],\n",
      "       [14],\n",
      "       [17]]), array([[ 3],\n",
      "       [ 6],\n",
      "       [ 9],\n",
      "       [12],\n",
      "       [15],\n",
      "       [18]])]\n"
     ]
    }
   ],
   "source": [
    "# hsplit() and hstack()\n",
    "# hsplit is oppposite of hstack()\n",
    "arr = np.array([[1, 2, 3], [4, 5, 6], [7, 8, 9], [10, 11, 12], [13, 14, 15], [16, 17, 18]])\n",
    "\n",
    "newarr = np.hsplit(arr, 3)\n",
    "\n",
    "print(newarr)\n"
   ]
  },
  {
   "cell_type": "code",
   "execution_count": 269,
   "id": "6ce17222-85cb-4694-8d34-c7c95250c931",
   "metadata": {},
   "outputs": [
    {
     "name": "stdout",
     "output_type": "stream",
     "text": [
      "(array([7, 8], dtype=int64),)\n",
      "(array([1, 3, 5, 7, 8], dtype=int64),)\n",
      "(array([0, 2, 4, 6], dtype=int64),)\n"
     ]
    }
   ],
   "source": [
    "''' Searching Arrays '''\n",
    "''' > you can search an array for a ceratin value and return the indexes that get a match.\n",
    "   > to sarch an array use the where() method '''\n",
    "arr =np.array([1,2,3,4,5,6,7,8,8])\n",
    "newarr=np.where(arr==8)\n",
    "print(newarr)\n",
    "\n",
    "x=np.where(arr%2==0)  # even\n",
    "print(x)\n",
    "\n",
    "x=np.where(arr%2==1)  # odd\n",
    "print(x)\n",
    "\n"
   ]
  },
  {
   "cell_type": "code",
   "execution_count": 51,
   "id": "cd3a0424-b815-4786-8e0b-40a5cd47d7be",
   "metadata": {},
   "outputs": [
    {
     "name": "stdout",
     "output_type": "stream",
     "text": [
      "6\n",
      "8\n"
     ]
    }
   ],
   "source": [
    "# search sorted , serchsorted() we are use \n",
    "# in this method output gives the index value\n",
    "x=np.searchsorted(arr,7)\n",
    "print(x)\n",
    "\n",
    "xy= np.searchsorted(arr,8,side='right')  # in this line doon't gives actual output\n",
    "print(xy)\n"
   ]
  },
  {
   "cell_type": "code",
   "execution_count": 57,
   "id": "14112dc1-50f4-4e00-86dc-3dfdf4381610",
   "metadata": {},
   "outputs": [
    {
     "name": "stdout",
     "output_type": "stream",
     "text": [
      "[1 2 3]\n"
     ]
    }
   ],
   "source": [
    "import numpy as np\n",
    "arr=np.array([1,3,5,7])\n",
    "x=np.searchsorted(arr,[2,4,6])\n",
    "print(x)"
   ]
  },
  {
   "cell_type": "code",
   "execution_count": 75,
   "id": "766ff4a6-a654-4c29-b9b4-1645bd9cbe31",
   "metadata": {},
   "outputs": [
    {
     "name": "stdout",
     "output_type": "stream",
     "text": [
      "[0 1 2 3]\n",
      "\n",
      "['kumar' 'mani' 'resh' 'santhosh']\n",
      "[['kumar' 'mani' 'resh' 'santhosh']\n",
      " ['kumar' 'mani' 'resh' 'santhosh']]\n",
      "\n",
      "[[  0   1   2   3]\n",
      " [ 50  56 100 200]]\n"
     ]
    }
   ],
   "source": [
    "''' Sorting Arrays '''\n",
    "# sorting means putting elements in an ordered sequence\n",
    "arr = np.array([3, 2, 0, 1])\n",
    "\n",
    "print(np.sort(arr))\n",
    "print()\n",
    "\n",
    "arr=np.array(['santhosh','kumar','resh','mani'])\n",
    "print(np.sort(arr))\n",
    "# 2-D\n",
    "arr=np.array([['santhosh','kumar','resh','mani'],['santhosh','kumar','resh','mani']])\n",
    "print(np.sort(arr))\n",
    "print()\n",
    "arr = np.array([[3, 2, 0, 1],[100,50,56,200]])\n",
    "print(np.sort(arr))"
   ]
  },
  {
   "cell_type": "code",
   "execution_count": 87,
   "id": "accee82f-007e-4d24-897f-701375979d0b",
   "metadata": {},
   "outputs": [
    {
     "name": "stdout",
     "output_type": "stream",
     "text": [
      "[1 3 5 7 9]\n",
      "\n",
      "[False, False, False, False, False, False, True, True, True, True]\n",
      "[ 7  8  9 10]\n"
     ]
    }
   ],
   "source": [
    "'''NumPy Array Filter '''\n",
    "''' Getting some elements out of an existing array and creating a new array out of them is called filtering.\n",
    ">In Numpy, you filter an array using a boolean index list.\n",
    ">A boolean index list a list of booleans corresponding too indexes int he arra. '''\n",
    "\n",
    "# If the value at an index is true that element is contained in the filtered array, if the value at that index is false that element is excluded from the filtered array.\n",
    "\n",
    "arr=np.array([1,2,3,4,5,6,7,8,9,10])\n",
    "x=[True, False, True, False,True, False, True, False,True, False]\n",
    "newarr=arr[x]\n",
    "print(newarr)\n",
    "print()\n",
    "# creating the filer array\n",
    "arr=np.array([1,2,3,4,5,6,7,8,9,10])\n",
    "filter_arr=[]\n",
    "for i in arr:\n",
    "    if i>6:\n",
    "        filter_arr.append(True)\n",
    "    else:\n",
    "        filter_arr.append(False)\n",
    "newarr=arr[filter_arr]\n",
    "print(filter_arr)\n",
    "print(newarr)\n"
   ]
  },
  {
   "cell_type": "code",
   "execution_count": 3,
   "id": "deb0c1af-17ea-426e-8933-24c07c3d4aae",
   "metadata": {},
   "outputs": [
    {
     "name": "stdout",
     "output_type": "stream",
     "text": [
      "[False, True, False, True, False, True, False, True, False, True]\n",
      "[ 2  4  6  8 10]\n"
     ]
    }
   ],
   "source": [
    "# getting even numbers\n",
    "import numpy as np\n",
    "arr=np.array([1,2,3,4,5,6,7,8,9,10])\n",
    "filter_arr=[]\n",
    "for i in arr:\n",
    "    if i%2==0:\n",
    "        filter_arr.append(True)\n",
    "    else:\n",
    "        filter_arr.append(False)\n",
    "newarr=arr[filter_arr]\n",
    "print(filter_arr)\n",
    "print(newarr)"
   ]
  },
  {
   "cell_type": "code",
   "execution_count": 13,
   "id": "54d17782-3dad-482e-a141-2c20f447f555",
   "metadata": {},
   "outputs": [
    {
     "name": "stdout",
     "output_type": "stream",
     "text": [
      "[False False False False  True  True  True  True]\n",
      "[5 6 7 8]\n",
      "\n",
      "[False  True False  True False  True False  True]\n",
      "[2 4 6 8]\n"
     ]
    }
   ],
   "source": [
    "# directly created  filter array\n",
    "arr=np.array([1,2,3,4,5,6,7,8])\n",
    "filter_arr=arr>4\n",
    "newarr=arr[filter_arr]\n",
    "print(filter_arr)\n",
    "print(newarr)\n",
    "print()\n",
    "\n",
    "arr=np.array([1,2,3,4,5,6,7,8])\n",
    "filter_arr=arr%2==0\n",
    "newarr=arr[filter_arr]\n",
    "print(filter_arr)\n",
    "print(newarr)"
   ]
  }
 ],
 "metadata": {
  "kernelspec": {
   "display_name": "Python 3 (ipykernel)",
   "language": "python",
   "name": "python3"
  },
  "language_info": {
   "codemirror_mode": {
    "name": "ipython",
    "version": 3
   },
   "file_extension": ".py",
   "mimetype": "text/x-python",
   "name": "python",
   "nbconvert_exporter": "python",
   "pygments_lexer": "ipython3",
   "version": "3.12.4"
  }
 },
 "nbformat": 4,
 "nbformat_minor": 5
}
